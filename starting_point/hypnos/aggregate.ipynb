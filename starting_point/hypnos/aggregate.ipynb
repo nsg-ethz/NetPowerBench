{
 "cells": [
  {
   "cell_type": "code",
   "execution_count": null,
   "metadata": {},
   "outputs": [],
   "source": [
    "from os import listdir\n",
    "from os.path import isfile, join, isdir\n",
    "import csv\n",
    "import pandas as pd\n",
    "import plotly.express as px\n",
    "import datetime\n",
    "path = f\"/nfs/nsg/group/jacobr/SWITCH_data/router-interfaces/\""
   ]
  },
  {
   "cell_type": "code",
   "execution_count": null,
   "metadata": {},
   "outputs": [],
   "source": [
    "directories = [dir for dir in listdir(path)]\n",
    "traffic_volume_in = {}\n",
    "traffic_volume_out = {}\n",
    "traffic_packets_in = {}\n",
    "traffic_packets_out = {}\n",
    "\n",
    "for directory in directories:\n",
    "    files = [filename for filename in listdir(join(path, directory)) if isfile(join(path, directory, filename))]\n",
    "    for file in files:\n",
    "        #print(file)\n",
    "        if \"bundle\" in file or \"port-channel\" in file or \"vlan\" in file or \"bidi\" in file or \"loopback\" in file or \"bvi2\" in file:\n",
    "            print(file)\n",
    "            continue\n",
    "        if len(file.split(\".\")) > 2:\n",
    "            print(file)\n",
    "            continue\n",
    "        print(f\"{directory, file}\")\n",
    "        with open(file=join(path, directory, file), mode='r') as f:\n",
    "            contents = list(csv.reader(f, delimiter=\",\"))\n",
    "            for element in contents:\n",
    "                if element[0] == \"timestamp\":\n",
    "                    continue\n",
    "                if element[1] == \"\" or element[2] == \"\":\n",
    "                    continue\n",
    "                traffic_volume_in[element[0]] = traffic_volume_in.get(element[0],0) + float(element[1])\n",
    "                traffic_volume_out[element[0]] = traffic_volume_out.get(element[0],0) + float(element[2])\n",
    "\n",
    "                if len(element) < 7:\n",
    "                    continue\n",
    "                if element[5] == \"\" or element[6] == \"\":\n",
    "                    continue\n",
    "                \n",
    "                traffic_packets_in[element[0]] = traffic_packets_in.get(element[0],0) + float(element[5])\n",
    "                traffic_packets_out[element[0]] = traffic_packets_out.get(element[0],0) + float(element[6])\n"
   ]
  },
  {
   "cell_type": "code",
   "execution_count": null,
   "metadata": {},
   "outputs": [],
   "source": [
    "power_path = f\"/nfs/nsg/group/jacobr/router-power-dataset/cisco/\"\n",
    "total_power = {}\n",
    "\n",
    "power_directories = [dir for dir in listdir(power_path)]\n",
    "print(power_directories)\n",
    "for directory in power_directories:\n",
    "    locations = [filename for filename in listdir(join(power_path, directory))]\n",
    "    for location in locations:\n",
    "        if \"metadata\" in location:\n",
    "            continue\n",
    "        with open(file=join(power_path, directory, location,\"PSU/total.csv\"), mode='r') as f:\n",
    "            contents = list(csv.reader(f, delimiter=\",\"))\n",
    "            for element in contents:\n",
    "                if element[0] == \"timestamp\":\n",
    "                    continue\n",
    "                total_power[element[0]] = total_power.get(element[0],0) + float(element[3])"
   ]
  },
  {
   "cell_type": "code",
   "execution_count": null,
   "metadata": {},
   "outputs": [],
   "source": [
    "with open(\"./traffic_volume_power.csv\", mode='w') as f:\n",
    "    f.write(\"timestamp,traffic volume in [Bytes],traffic volume out [Bytes],traffic volume [Bytes],packets in,packets out,packets,power [W]\\n\")\n",
    "    for key in sorted(traffic_volume_in.keys()):\n",
    "        if key not in traffic_volume_out:\n",
    "            print(key)\n",
    "        if key not in total_power:\n",
    "            print(key)\n",
    "            continue\n",
    "        f.write(f\"{datetime.datetime.fromtimestamp(int(key))},{traffic_volume_in[key]},{traffic_volume_out[key]},{traffic_volume_in[key]+traffic_volume_out[key]},\" +\n",
    "                f\"{traffic_packets_in[key]},{traffic_packets_out[key]},{traffic_packets_in[key]+traffic_packets_out[key]},{total_power[key]}\\n\")"
   ]
  },
  {
   "cell_type": "code",
   "execution_count": null,
   "metadata": {},
   "outputs": [],
   "source": [
    "traffic = pd.read_csv(\"./traffic_volume_power.csv\")\n",
    "traffic[\"traffic volume [100s of Gbit]\"] = traffic[\"traffic volume [Bytes]\"] * 8 / 10**11\n",
    "traffic[\"power [kW]\"] = traffic[\"power [W]\"] / 10**3\n",
    "px.line(traffic, x=\"timestamp\", y=[\"traffic volume [100s of Gbit]\", \"power [kW]\", \"packets\"], title=\"Traffic Volume and Power Consumption\").show()"
   ]
  }
 ],
 "metadata": {
  "kernelspec": {
   "display_name": "Python 3",
   "language": "python",
   "name": "python3"
  },
  "language_info": {
   "codemirror_mode": {
    "name": "ipython",
    "version": 3
   },
   "file_extension": ".py",
   "mimetype": "text/x-python",
   "name": "python",
   "nbconvert_exporter": "python",
   "pygments_lexer": "ipython3",
   "version": "3.10.12"
  }
 },
 "nbformat": 4,
 "nbformat_minor": 2
}
